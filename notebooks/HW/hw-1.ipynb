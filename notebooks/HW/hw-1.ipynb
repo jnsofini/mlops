{
 "cells": [
  {
   "attachments": {},
   "cell_type": "markdown",
   "metadata": {},
   "source": [
    "## Home Work 1.\n",
    "In this home work I basically followed the process in the optional lecture [here](https://www.youtube.com/watch?v=iRunifGSHFc&list=PL3MmuxUbc_hIUISrluw_A7wDSmfOhErJK&index=5&pp=iAQB). There are certain things I could approached differently but they will skew the provided answers."
   ]
  },
  {
   "cell_type": "code",
   "execution_count": 1,
   "metadata": {},
   "outputs": [],
   "source": [
    "import pandas as pd\n",
    "from pathlib import Path\n",
    "\n",
    "data_dir = \"/home/fini/github-projects/mlops/data/raw_data\""
   ]
  },
  {
   "cell_type": "code",
   "execution_count": 2,
   "metadata": {},
   "outputs": [],
   "source": [
    "def add_trip_duration(\n",
    "    df, pick_up=\"lpep_dropoff_datetime\", drop_off=\"lpep_pickup_datetime\"\n",
    "):\n",
    "    df[pick_up] = pd.to_datetime(df[pick_up])\n",
    "    df[drop_off] = pd.to_datetime(df[drop_off])\n",
    "    df[\"duration\"] = df[pick_up] - df[drop_off]\n",
    "    df.duration = df.duration.apply(lambda td: td.total_seconds() / 60)\n",
    "    return df"
   ]
  },
  {
   "attachments": {},
   "cell_type": "markdown",
   "metadata": {},
   "source": [
    "## Assignment 1\n"
   ]
  },
  {
   "cell_type": "code",
   "execution_count": 3,
   "metadata": {},
   "outputs": [],
   "source": [
    "yellow_taxi_20221 = pd.read_parquet(Path(data_dir) / \"yellow_tripdata_2022-01.parquet\")\n",
    "yellow_taxi_20222 = pd.read_parquet(Path(data_dir) / \"yellow_tripdata_2022-02.parquet\")"
   ]
  },
  {
   "cell_type": "code",
   "execution_count": 4,
   "metadata": {},
   "outputs": [
    {
     "data": {
      "text/html": [
       "<div>\n",
       "<style scoped>\n",
       "    .dataframe tbody tr th:only-of-type {\n",
       "        vertical-align: middle;\n",
       "    }\n",
       "\n",
       "    .dataframe tbody tr th {\n",
       "        vertical-align: top;\n",
       "    }\n",
       "\n",
       "    .dataframe thead th {\n",
       "        text-align: right;\n",
       "    }\n",
       "</style>\n",
       "<table border=\"1\" class=\"dataframe\">\n",
       "  <thead>\n",
       "    <tr style=\"text-align: right;\">\n",
       "      <th></th>\n",
       "      <th>VendorID</th>\n",
       "      <th>tpep_pickup_datetime</th>\n",
       "      <th>tpep_dropoff_datetime</th>\n",
       "      <th>passenger_count</th>\n",
       "      <th>trip_distance</th>\n",
       "      <th>RatecodeID</th>\n",
       "      <th>store_and_fwd_flag</th>\n",
       "      <th>PULocationID</th>\n",
       "      <th>DOLocationID</th>\n",
       "      <th>payment_type</th>\n",
       "      <th>fare_amount</th>\n",
       "      <th>extra</th>\n",
       "      <th>mta_tax</th>\n",
       "      <th>tip_amount</th>\n",
       "      <th>tolls_amount</th>\n",
       "      <th>improvement_surcharge</th>\n",
       "      <th>total_amount</th>\n",
       "      <th>congestion_surcharge</th>\n",
       "      <th>airport_fee</th>\n",
       "    </tr>\n",
       "  </thead>\n",
       "  <tbody>\n",
       "    <tr>\n",
       "      <th>0</th>\n",
       "      <td>1</td>\n",
       "      <td>2022-01-01 00:35:40</td>\n",
       "      <td>2022-01-01 00:53:29</td>\n",
       "      <td>2.0</td>\n",
       "      <td>3.8</td>\n",
       "      <td>1.0</td>\n",
       "      <td>N</td>\n",
       "      <td>142</td>\n",
       "      <td>236</td>\n",
       "      <td>1</td>\n",
       "      <td>14.5</td>\n",
       "      <td>3.0</td>\n",
       "      <td>0.5</td>\n",
       "      <td>3.65</td>\n",
       "      <td>0.0</td>\n",
       "      <td>0.3</td>\n",
       "      <td>21.95</td>\n",
       "      <td>2.5</td>\n",
       "      <td>0.0</td>\n",
       "    </tr>\n",
       "    <tr>\n",
       "      <th>1</th>\n",
       "      <td>1</td>\n",
       "      <td>2022-01-01 00:33:43</td>\n",
       "      <td>2022-01-01 00:42:07</td>\n",
       "      <td>1.0</td>\n",
       "      <td>2.1</td>\n",
       "      <td>1.0</td>\n",
       "      <td>N</td>\n",
       "      <td>236</td>\n",
       "      <td>42</td>\n",
       "      <td>1</td>\n",
       "      <td>8.0</td>\n",
       "      <td>0.5</td>\n",
       "      <td>0.5</td>\n",
       "      <td>4.00</td>\n",
       "      <td>0.0</td>\n",
       "      <td>0.3</td>\n",
       "      <td>13.30</td>\n",
       "      <td>0.0</td>\n",
       "      <td>0.0</td>\n",
       "    </tr>\n",
       "  </tbody>\n",
       "</table>\n",
       "</div>"
      ],
      "text/plain": [
       "   VendorID tpep_pickup_datetime tpep_dropoff_datetime  passenger_count   \n",
       "0         1  2022-01-01 00:35:40   2022-01-01 00:53:29              2.0  \\\n",
       "1         1  2022-01-01 00:33:43   2022-01-01 00:42:07              1.0   \n",
       "\n",
       "   trip_distance  RatecodeID store_and_fwd_flag  PULocationID  DOLocationID   \n",
       "0            3.8         1.0                  N           142           236  \\\n",
       "1            2.1         1.0                  N           236            42   \n",
       "\n",
       "   payment_type  fare_amount  extra  mta_tax  tip_amount  tolls_amount   \n",
       "0             1         14.5    3.0      0.5        3.65           0.0  \\\n",
       "1             1          8.0    0.5      0.5        4.00           0.0   \n",
       "\n",
       "   improvement_surcharge  total_amount  congestion_surcharge  airport_fee  \n",
       "0                    0.3         21.95                   2.5          0.0  \n",
       "1                    0.3         13.30                   0.0          0.0  "
      ]
     },
     "execution_count": 4,
     "metadata": {},
     "output_type": "execute_result"
    }
   ],
   "source": [
    "yellow_taxi_20221.head(2)"
   ]
  },
  {
   "attachments": {},
   "cell_type": "markdown",
   "metadata": {},
   "source": [
    "1. Dimensions"
   ]
  },
  {
   "cell_type": "code",
   "execution_count": 5,
   "metadata": {},
   "outputs": [
    {
     "data": {
      "text/plain": [
       "(2463931, 19)"
      ]
     },
     "execution_count": 5,
     "metadata": {},
     "output_type": "execute_result"
    }
   ],
   "source": [
    "yellow_taxi_20221.shape"
   ]
  },
  {
   "cell_type": "code",
   "execution_count": 6,
   "metadata": {},
   "outputs": [],
   "source": [
    "yellow_taxi_20221 = add_trip_duration(\n",
    "    yellow_taxi_20221, pick_up=\"tpep_dropoff_datetime\", drop_off=\"tpep_pickup_datetime\"\n",
    ")"
   ]
  },
  {
   "cell_type": "code",
   "execution_count": 7,
   "metadata": {},
   "outputs": [],
   "source": [
    "yellow_taxi_20222 = add_trip_duration(\n",
    "    yellow_taxi_20222, pick_up=\"tpep_dropoff_datetime\", drop_off=\"tpep_pickup_datetime\"\n",
    ")"
   ]
  },
  {
   "cell_type": "code",
   "execution_count": 8,
   "metadata": {},
   "outputs": [
    {
     "data": {
      "text/plain": [
       "(2979431, 20)"
      ]
     },
     "execution_count": 8,
     "metadata": {},
     "output_type": "execute_result"
    }
   ],
   "source": [
    "yellow_taxi_20222.shape"
   ]
  },
  {
   "attachments": {},
   "cell_type": "markdown",
   "metadata": {},
   "source": [
    "2. Summary Statistics"
   ]
  },
  {
   "cell_type": "code",
   "execution_count": 9,
   "metadata": {},
   "outputs": [
    {
     "data": {
      "text/plain": [
       "count    2.463931e+06\n",
       "mean     1.421220e+01\n",
       "std      4.644531e+01\n",
       "min     -3.442400e+03\n",
       "25%      6.316667e+00\n",
       "50%      1.018333e+01\n",
       "75%      1.616667e+01\n",
       "max      8.513183e+03\n",
       "Name: duration, dtype: float64"
      ]
     },
     "execution_count": 9,
     "metadata": {},
     "output_type": "execute_result"
    }
   ],
   "source": [
    "yellow_taxi_20221[\"duration\"].describe()"
   ]
  },
  {
   "cell_type": "code",
   "execution_count": 10,
   "metadata": {},
   "outputs": [
    {
     "data": {
      "text/plain": [
       "<Axes: >"
      ]
     },
     "execution_count": 10,
     "metadata": {},
     "output_type": "execute_result"
    },
    {
     "data": {
      "image/png": "[encoded data removed]",
      "text/plain": [
       "<Figure size 640x480 with 1 Axes>"
      ]
     },
     "metadata": {},
     "output_type": "display_data"
    }
   ],
   "source": [
    "yellow_taxi_20221[\"duration\"].hist(bins=100)"
   ]
  },
  {
   "cell_type": "code",
   "execution_count": 11,
   "metadata": {},
   "outputs": [
    {
     "data": {
      "text/plain": [
       "0.9939377360810835"
      ]
     },
     "execution_count": 11,
     "metadata": {},
     "output_type": "execute_result"
    }
   ],
   "source": [
    "((yellow_taxi_20221[\"duration\"] > 0) & (yellow_taxi_20221[\"duration\"] <= 60)).mean()"
   ]
  },
  {
   "attachments": {},
   "cell_type": "markdown",
   "metadata": {},
   "source": [
    "3. Outliers\n",
    "Our approche here is to check the stats for the following percentiles and manually go through to see the cut offs."
   ]
  },
  {
   "cell_type": "code",
   "execution_count": 12,
   "metadata": {},
   "outputs": [
    {
     "data": {
      "text/plain": [
       "<Axes: >"
      ]
     },
     "execution_count": 12,
     "metadata": {},
     "output_type": "execute_result"
    },
    {
     "data": {
      "image/png": "[encoded data removed]",
      "text/plain": [
       "<Figure size 640x480 with 1 Axes>"
      ]
     },
     "metadata": {},
     "output_type": "display_data"
    }
   ],
   "source": [
    "yellow_taxi_20221[\"duration\"][\n",
    "    ((yellow_taxi_20221[\"duration\"] >0.5) & (yellow_taxi_20221[\"duration\"] <= 60))\n",
    "].hist(bins=100)"
   ]
  },
  {
   "cell_type": "code",
   "execution_count": 13,
   "metadata": {},
   "outputs": [
    {
     "data": {
      "text/plain": [
       "VendorID                          int64\n",
       "tpep_pickup_datetime     datetime64[ns]\n",
       "tpep_dropoff_datetime    datetime64[ns]\n",
       "passenger_count                 float64\n",
       "trip_distance                   float64\n",
       "RatecodeID                      float64\n",
       "store_and_fwd_flag               object\n",
       "PULocationID                      int64\n",
       "DOLocationID                      int64\n",
       "payment_type                      int64\n",
       "fare_amount                     float64\n",
       "extra                           float64\n",
       "mta_tax                         float64\n",
       "tip_amount                      float64\n",
       "tolls_amount                    float64\n",
       "improvement_surcharge           float64\n",
       "total_amount                    float64\n",
       "congestion_surcharge            float64\n",
       "airport_fee                     float64\n",
       "duration                        float64\n",
       "dtype: object"
      ]
     },
     "execution_count": 13,
     "metadata": {},
     "output_type": "execute_result"
    }
   ],
   "source": [
    "yellow_taxi_20221.dtypes"
   ]
  },
  {
   "cell_type": "code",
   "execution_count": 14,
   "metadata": {},
   "outputs": [
    {
     "name": "stdout",
     "output_type": "stream",
     "text": [
      "tpep_pickup_datetime\n",
      "count                          2463931\n",
      "mean     2022-01-17 01:19:51.689726208\n",
      "min                2008-12-31 22:23:09\n",
      "50%                2022-01-17 12:11:45\n",
      "99.5%    2022-01-31 20:13:48.350000128\n",
      "99.8%       2022-01-31 22:09:47.140000\n",
      "99.9%    2022-01-31 22:54:48.070000128\n",
      "max                2022-05-18 20:41:57\n",
      "Name: tpep_pickup_datetime, dtype: object\n",
      "tpep_dropoff_datetime\n",
      "count                          2463931\n",
      "mean     2022-01-17 01:34:04.421900544\n",
      "min                2008-12-31 23:06:56\n",
      "50%                2022-01-17 12:23:49\n",
      "99.5%    2022-01-31 20:26:42.350000128\n",
      "99.8%              2022-01-31 22:24:22\n",
      "99.9%              2022-01-31 23:08:22\n",
      "max                2022-05-18 20:47:45\n",
      "Name: tpep_dropoff_datetime, dtype: object\n",
      "passenger_count\n",
      "count    2.392428e+06\n",
      "mean     1.389453e+00\n",
      "std      9.829686e-01\n",
      "min      0.000000e+00\n",
      "50%      1.000000e+00\n",
      "99.5%    6.000000e+00\n",
      "99.8%    6.000000e+00\n",
      "99.9%    6.000000e+00\n",
      "max      9.000000e+00\n",
      "Name: passenger_count, dtype: float64\n",
      "trip_distance\n",
      "count    2.463931e+06\n",
      "mean     5.372751e+00\n",
      "std      5.478714e+02\n",
      "min      0.000000e+00\n",
      "50%      1.740000e+00\n",
      "99.5%    2.112000e+01\n",
      "99.8%    2.430000e+01\n",
      "99.9%    2.834000e+01\n",
      "max      3.061593e+05\n",
      "Name: trip_distance, dtype: float64\n",
      "RatecodeID\n",
      "count    2.392428e+06\n",
      "mean     1.415507e+00\n",
      "std      5.917573e+00\n",
      "min      1.000000e+00\n",
      "50%      1.000000e+00\n",
      "99.5%    5.000000e+00\n",
      "99.8%    9.900000e+01\n",
      "99.9%    9.900000e+01\n",
      "max      9.900000e+01\n",
      "Name: RatecodeID, dtype: float64\n",
      "PULocationID\n",
      "count    2.463931e+06\n",
      "mean     1.660768e+02\n",
      "std      6.546806e+01\n",
      "min      1.000000e+00\n",
      "50%      1.620000e+02\n",
      "99.5%    2.640000e+02\n",
      "99.8%    2.650000e+02\n",
      "99.9%    2.650000e+02\n",
      "max      2.650000e+02\n",
      "Name: PULocationID, dtype: float64\n",
      "DOLocationID\n",
      "count    2.463931e+06\n",
      "mean     1.635807e+02\n",
      "std      7.079016e+01\n",
      "min      1.000000e+00\n",
      "50%      1.620000e+02\n",
      "99.5%    2.640000e+02\n",
      "99.8%    2.650000e+02\n",
      "99.9%    2.650000e+02\n",
      "max      2.650000e+02\n",
      "Name: DOLocationID, dtype: float64\n",
      "payment_type\n",
      "count    2.463931e+06\n",
      "mean     1.194449e+00\n",
      "std      5.001778e-01\n",
      "min      0.000000e+00\n",
      "50%      1.000000e+00\n",
      "99.5%    3.000000e+00\n",
      "99.8%    4.000000e+00\n",
      "99.9%    4.000000e+00\n",
      "max      5.000000e+00\n",
      "Name: payment_type, dtype: float64\n",
      "fare_amount\n",
      "count    2.463931e+06\n",
      "mean     1.294648e+01\n",
      "std      2.558149e+02\n",
      "min     -4.800000e+02\n",
      "50%      9.000000e+00\n",
      "99.5%    6.450000e+01\n",
      "99.8%    7.650000e+01\n",
      "99.9%    1.000000e+02\n",
      "max      4.010923e+05\n",
      "Name: fare_amount, dtype: float64\n",
      "extra\n",
      "count    2.463931e+06\n",
      "mean     1.006710e+00\n",
      "std      1.236226e+00\n",
      "min     -4.500000e+00\n",
      "50%      5.000000e-01\n",
      "99.5%    4.500000e+00\n",
      "99.8%    4.500000e+00\n",
      "99.9%    7.000000e+00\n",
      "max      3.350000e+01\n",
      "Name: extra, dtype: float64\n",
      "mta_tax\n",
      "count    2.463931e+06\n",
      "mean     4.914539e-01\n",
      "std      8.291560e-02\n",
      "min     -5.000000e-01\n",
      "50%      5.000000e-01\n",
      "99.5%    5.000000e-01\n",
      "99.8%    5.000000e-01\n",
      "99.9%    5.000000e-01\n",
      "max      1.659000e+01\n",
      "Name: mta_tax, dtype: float64\n",
      "tip_amount\n",
      "count    2.463931e+06\n",
      "mean     2.385696e+00\n",
      "std      2.830698e+00\n",
      "min     -1.252200e+02\n",
      "50%      2.000000e+00\n",
      "99.5%    1.500000e+01\n",
      "99.8%    1.851000e+01\n",
      "99.9%    2.047070e+01\n",
      "max      8.888800e+02\n",
      "Name: tip_amount, dtype: float64\n",
      "tolls_amount\n",
      "count    2.463931e+06\n",
      "mean     3.749773e-01\n",
      "std      1.680538e+00\n",
      "min     -3.140000e+01\n",
      "50%      0.000000e+00\n",
      "99.5%    6.550000e+00\n",
      "99.8%    1.276000e+01\n",
      "99.9%    1.675000e+01\n",
      "max      1.933000e+02\n",
      "Name: tolls_amount, dtype: float64\n",
      "improvement_surcharge\n",
      "count    2.463931e+06\n",
      "mean     2.967234e-01\n",
      "std      4.374741e-02\n",
      "min     -3.000000e-01\n",
      "50%      3.000000e-01\n",
      "99.5%    3.000000e-01\n",
      "99.8%    3.000000e-01\n",
      "99.9%    3.000000e-01\n",
      "max      3.000000e-01\n",
      "Name: improvement_surcharge, dtype: float64\n",
      "total_amount\n",
      "count    2.463931e+06\n",
      "mean     1.916937e+01\n",
      "std      2.559641e+02\n",
      "min     -4.803000e+02\n",
      "50%      1.469000e+01\n",
      "99.5%    8.112000e+01\n",
      "99.8%    9.958140e+01\n",
      "99.9%    1.229000e+02\n",
      "max      4.010956e+05\n",
      "Name: total_amount, dtype: float64\n",
      "congestion_surcharge\n",
      "count    2.392428e+06\n",
      "mean     2.282322e+00\n",
      "std      7.432040e-01\n",
      "min     -2.500000e+00\n",
      "50%      2.500000e+00\n",
      "99.5%    2.500000e+00\n",
      "99.8%    2.500000e+00\n",
      "99.9%    2.500000e+00\n",
      "max      2.500000e+00\n",
      "Name: congestion_surcharge, dtype: float64\n",
      "airport_fee\n",
      "count    2.392428e+06\n",
      "mean     8.249935e-02\n",
      "std      3.125554e-01\n",
      "min     -1.250000e+00\n",
      "50%      0.000000e+00\n",
      "99.5%    1.250000e+00\n",
      "99.8%    1.250000e+00\n",
      "99.9%    1.250000e+00\n",
      "max      1.250000e+00\n",
      "Name: airport_fee, dtype: float64\n",
      "duration\n",
      "count    2.463931e+06\n",
      "mean     1.421220e+01\n",
      "std      4.644531e+01\n",
      "min     -3.442400e+03\n",
      "50%      1.018333e+01\n",
      "99.5%    6.006667e+01\n",
      "99.8%    7.766900e+01\n",
      "99.9%    8.364607e+02\n",
      "max      8.513183e+03\n",
      "Name: duration, dtype: float64\n"
     ]
    }
   ],
   "source": [
    "for col in yellow_taxi_20221.drop(columns=[\"VendorID\", \"store_and_fwd_flag\"]).columns:\n",
    "    print(col)\n",
    "    print(yellow_taxi_20221[col].describe(percentiles=[0.995, 0.998, 0.999]))"
   ]
  },
  {
   "attachments": {},
   "cell_type": "markdown",
   "metadata": {},
   "source": [
    "Let's define the 99.9\\% to be the outlier. We have the following columns with minimum and maximum extracted from above\n",
    "\n",
    "| Column      | Min         | Max       |\n",
    "| ----------- | ----------- | -----------\n",
    "| fare_amount | 0 | 100\n",
    "| extra |0|\n",
    "| mta_tax |0|\n",
    "| tip_amount |0 |20.5\n",
    "| tolls_amount |0|\n",
    "| total_amount |0 | 123\n",
    "| congestion_surcharge |0|\n",
    "| airport_fee |0|\n",
    "| duration |0 | 77.7"
   ]
  },
  {
   "cell_type": "code",
   "execution_count": 15,
   "metadata": {},
   "outputs": [],
   "source": [
    "# Columns with zero lower bound except duration\n",
    "greater_than_zero_col = [\n",
    "    \"fare_amount\",\n",
    "    \"extra\",\n",
    "    \"mta_tax\",\n",
    "    \"tip_amount\",\n",
    "    \"tolls_amount\",\n",
    "    \"total_amount\",\n",
    "    \"congestion_surcharge\",\n",
    "    \"airport_fee\",\n",
    "    \"duration\",\n",
    "]\n",
    "\n",
    "# Those columns with an upper boundary\n",
    "less_than_mask = (\n",
    "    (yellow_taxi_20221[\"fare_amount\"] <= 100)\n",
    "    & (yellow_taxi_20221[\"tip_amount\"] <= 20.5)\n",
    "    & (yellow_taxi_20221[\"total_amount\"] <= 123)\n",
    "    & (yellow_taxi_20221[\"duration\"] <= 123)\n",
    ")\n",
    "# Final mask\n",
    "outlier_mask = less_than_mask.copy()\n",
    "for col in greater_than_zero_col:\n",
    "    if col == \"duration\":\n",
    "        outlier_mask = outlier_mask & (yellow_taxi_20221[col] >= 1)\n",
    "    else:\n",
    "        outlier_mask = outlier_mask & (yellow_taxi_20221[col] >= 0)"
   ]
  },
  {
   "cell_type": "code",
   "execution_count": 16,
   "metadata": {},
   "outputs": [
    {
     "data": {
      "text/plain": [
       "0.9534280789518862"
      ]
     },
     "execution_count": 16,
     "metadata": {},
     "output_type": "execute_result"
    }
   ],
   "source": [
    "outlier_mask.mean()"
   ]
  },
  {
   "attachments": {},
   "cell_type": "markdown",
   "metadata": {},
   "source": [
    "4. Dimensionality of OHE"
   ]
  },
  {
   "cell_type": "code",
   "execution_count": 19,
   "metadata": {},
   "outputs": [],
   "source": [
    "# categorical_cololumns = [\n",
    "#     \"store_and_fwd_flag\",\n",
    "#     \"PULocationID\",\n",
    "#     \"DOLocationID\",\n",
    "#     \"payment_type\",\n",
    "# ]"
   ]
  },
  {
   "cell_type": "code",
   "execution_count": 20,
   "metadata": {},
   "outputs": [],
   "source": [
    "train = yellow_taxi_20221[outlier_mask]"
   ]
  },
  {
   "attachments": {},
   "cell_type": "markdown",
   "metadata": {},
   "source": [
    "The notebook dies with the attemp to use all the columns  with the code\n",
    "\n",
    "```python\n",
    "enc.fit(train[categorical_cololumns])\n",
    "train_ohe = enc.transform(train[categorical_cololumns])\n",
    "```\n",
    "\n",
    "So we will use on the columns shown in the optional video, that is the dura"
   ]
  },
  {
   "cell_type": "code",
   "execution_count": 44,
   "metadata": {},
   "outputs": [
    {
     "name": "stderr",
     "output_type": "stream",
     "text": [
      "/tmp/ipykernel_132889/3311359884.py:1: SettingWithCopyWarning: \n",
      "A value is trying to be set on a copy of a slice from a DataFrame.\n",
      "Try using .loc[row_indexer,col_indexer] = value instead\n",
      "\n",
      "See the caveats in the documentation: https://pandas.pydata.org/pandas-docs/stable/user_guide/indexing.html#returning-a-view-versus-a-copy\n",
      "  train['PU_DO'] = train['PULocationID'].astype(str) + '_' + train['DOLocationID'].astype(str)\n"
     ]
    }
   ],
   "source": [
    "train['PU_DO'] = train['PULocationID'].astype(str) + '_' + train['DOLocationID'].astype(str)"
   ]
  },
  {
   "cell_type": "code",
   "execution_count": 35,
   "metadata": {},
   "outputs": [],
   "source": [
    "categorical = ['PULocationID', 'DOLocationID'] #'PULocationID', 'DOLocationID']\n",
    "numerical = ['trip_distance']"
   ]
  },
  {
   "cell_type": "code",
   "execution_count": 23,
   "metadata": {},
   "outputs": [
    {
     "name": "stderr",
     "output_type": "stream",
     "text": [
      "/tmp/ipykernel_132889/2976785735.py:2: SettingWithCopyWarning: \n",
      "A value is trying to be set on a copy of a slice from a DataFrame.\n",
      "Try using .loc[row_indexer,col_indexer] = value instead\n",
      "\n",
      "See the caveats in the documentation: https://pandas.pydata.org/pandas-docs/stable/user_guide/indexing.html#returning-a-view-versus-a-copy\n",
      "  train[col] = train[col].astype(str)\n",
      "/tmp/ipykernel_132889/2976785735.py:2: SettingWithCopyWarning: \n",
      "A value is trying to be set on a copy of a slice from a DataFrame.\n",
      "Try using .loc[row_indexer,col_indexer] = value instead\n",
      "\n",
      "See the caveats in the documentation: https://pandas.pydata.org/pandas-docs/stable/user_guide/indexing.html#returning-a-view-versus-a-copy\n",
      "  train[col] = train[col].astype(str)\n"
     ]
    }
   ],
   "source": [
    "for col in categorical:\n",
    "    train[col] = train[col].astype(str) "
   ]
  },
  {
   "cell_type": "code",
   "execution_count": 24,
   "metadata": {},
   "outputs": [
    {
     "name": "stderr",
     "output_type": "stream",
     "text": [
      "/tmp/ipykernel_132889/3845231091.py:18: SettingWithCopyWarning: \n",
      "A value is trying to be set on a copy of a slice from a DataFrame.\n",
      "Try using .loc[row_indexer,col_indexer] = value instead\n",
      "\n",
      "See the caveats in the documentation: https://pandas.pydata.org/pandas-docs/stable/user_guide/indexing.html#returning-a-view-versus-a-copy\n",
      "  validation['PU_DO'] = validation['PULocationID'].astype(str) + '_' + validation['DOLocationID'].astype(str)\n"
     ]
    }
   ],
   "source": [
    "# Treat validation\n",
    "# Those columns with an upper boundary\n",
    "less_than_mask = (\n",
    "    (yellow_taxi_20222[\"fare_amount\"] <= 100)\n",
    "    & (yellow_taxi_20222[\"tip_amount\"] <= 20.5)\n",
    "    & (yellow_taxi_20222[\"total_amount\"] <= 123)\n",
    "    & (yellow_taxi_20222[\"duration\"] <= 123)\n",
    ")\n",
    "# Final mask\n",
    "outlier_mask = less_than_mask.copy()\n",
    "for col in greater_than_zero_col:\n",
    "    if col == \"duration\":\n",
    "        outlier_mask = outlier_mask & (yellow_taxi_20222[col] >= 1)\n",
    "    else:\n",
    "        outlier_mask = outlier_mask & (yellow_taxi_20222[col] >= 0)\n",
    "\n",
    "validation = yellow_taxi_20222[outlier_mask]\n",
    "validation['PU_DO'] = validation['PULocationID'].astype(str) + '_' + validation['DOLocationID'].astype(str)"
   ]
  },
  {
   "cell_type": "code",
   "execution_count": 25,
   "metadata": {},
   "outputs": [],
   "source": [
    "enc.fit(train[categorical])\n",
    "train_ohe =  enc.transform(train[categorical])"
   ]
  },
  {
   "cell_type": "code",
   "execution_count": 26,
   "metadata": {},
   "outputs": [
    {
     "data": {
      "text/plain": [
       "(2349181, 515)"
      ]
     },
     "execution_count": 26,
     "metadata": {},
     "output_type": "execute_result"
    }
   ],
   "source": [
    "train_ohe.shape"
   ]
  },
  {
   "cell_type": "code",
   "execution_count": 27,
   "metadata": {},
   "outputs": [],
   "source": [
    "from sklearn.feature_extraction import DictVectorizer\n",
    "from sklearn.linear_model import LinearRegression\n",
    "from sklearn.linear_model import Lasso\n",
    "from sklearn.metrics import mean_squared_error"
   ]
  },
  {
   "cell_type": "code",
   "execution_count": 36,
   "metadata": {},
   "outputs": [],
   "source": [
    "dv = DictVectorizer()\n",
    "\n",
    "train_dicts = train[categorical + numerical].to_dict(orient='records')\n",
    "X_train = dv.fit_transform(train_dicts)\n",
    "\n",
    "val_dicts = validation[categorical + numerical].to_dict(orient='records')\n",
    "X_val = dv.transform(val_dicts)"
   ]
  },
  {
   "attachments": {},
   "cell_type": "markdown",
   "metadata": {},
   "source": [
    "6. Dimensionality of OHE"
   ]
  },
  {
   "cell_type": "code",
   "execution_count": 37,
   "metadata": {},
   "outputs": [
    {
     "data": {
      "text/plain": [
       "(2349181, 516)"
      ]
     },
     "execution_count": 37,
     "metadata": {},
     "output_type": "execute_result"
    }
   ],
   "source": [
    "X_train.shape"
   ]
  },
  {
   "cell_type": "code",
   "execution_count": 39,
   "metadata": {},
   "outputs": [],
   "source": [
    "target = 'duration'\n",
    "y_train = train[target].values\n",
    "y_val = validation[target].values"
   ]
  },
  {
   "attachments": {},
   "cell_type": "markdown",
   "metadata": {},
   "source": [
    "Logistic regression"
   ]
  },
  {
   "cell_type": "code",
   "execution_count": 40,
   "metadata": {},
   "outputs": [
    {
     "data": {
      "text/plain": [
       "10.072910169118785"
      ]
     },
     "execution_count": 40,
     "metadata": {},
     "output_type": "execute_result"
    }
   ],
   "source": [
    "lr = LinearRegression()\n",
    "lr.fit(X_train, y_train)\n",
    "\n",
    "y_pred = lr.predict(X_val)\n",
    "\n",
    "mean_squared_error(y_val, y_pred, squared=False)"
   ]
  },
  {
   "cell_type": "code",
   "execution_count": null,
   "metadata": {},
   "outputs": [],
   "source": [
    "y_pred = lr.predict(X_val)\n",
    "\n",
    "mean_squared_error(y_val, y_pred, squared=False)"
   ]
  },
  {
   "attachments": {},
   "cell_type": "markdown",
   "metadata": {},
   "source": [
    "Lasso"
   ]
  },
  {
   "cell_type": "code",
   "execution_count": 41,
   "metadata": {},
   "outputs": [
    {
     "data": {
      "text/plain": [
       "6.879091400714071"
      ]
     },
     "execution_count": 41,
     "metadata": {},
     "output_type": "execute_result"
    }
   ],
   "source": [
    "lr = Lasso(0.01)\n",
    "lr.fit(X_train, y_train)"
   ]
  },
  {
   "cell_type": "code",
   "execution_count": 43,
   "metadata": {},
   "outputs": [
    {
     "name": "stdout",
     "output_type": "stream",
     "text": [
      "prediction on train is: 6.2223\n"
     ]
    }
   ],
   "source": [
    "y_pred = lr.predict(X_train)\n",
    "print(f\"prediction on train is: {mean_squared_error(y_train, y_pred, squared=False):.4f}\")\n"
   ]
  },
  {
   "cell_type": "code",
   "execution_count": 42,
   "metadata": {},
   "outputs": [
    {
     "name": "stdout",
     "output_type": "stream",
     "text": [
      "prediction on val is: 6.8791\n"
     ]
    }
   ],
   "source": [
    "y_pred = lr.predict(X_val)\n",
    "print(f\"prediction on val is: {mean_squared_error(y_val, y_pred, squared=False):.4f}\")\n"
   ]
  }
 ],
 "metadata": {
  "kernelspec": {
   "display_name": "mlops",
   "language": "python",
   "name": "python3"
  },
  "language_info": {
   "codemirror_mode": {
    "name": "ipython",
    "version": 3
   },
   "file_extension": ".py",
   "mimetype": "text/x-python",
   "name": "python",
   "nbconvert_exporter": "python",
   "pygments_lexer": "ipython3",
   "version": "3.9.16"
  },
  "orig_nbformat": 4
 },
 "nbformat": 4,
 "nbformat_minor": 2
}
